{
 "cells": [
  {
   "cell_type": "code",
   "execution_count": 1,
   "id": "985aed1f-508e-425b-ab36-21b629d7e3c2",
   "metadata": {},
   "outputs": [],
   "source": [
    "import pandas as pd\n",
    "import numpy as np\n",
    "import matplotlib.pyplot as plt\n",
    "import seaborn as sns\n",
    "from transformers import AutoTokenizer\n",
    "from transformers import AutoModelForSequenceClassification\n",
    "from scipy.special import softmax\n",
    "import torch\n",
    "from torch.nn import functional as F\n",
    "import spacy\n",
    "\n",
    "\n",
    "plt.style.use('ggplot')"
   ]
  },
  {
   "cell_type": "code",
   "execution_count": 11,
   "id": "71c33bf2-fe50-47e5-9fa6-768f5ebef7f7",
   "metadata": {},
   "outputs": [
    {
     "name": "stdout",
     "output_type": "stream",
     "text": [
      "True\n"
     ]
    }
   ],
   "source": [
    "MODEL = f\"cardiffnlp/twitter-roberta-base-sentiment\"\n",
    "tokenizer = AutoTokenizer.from_pretrained(MODEL)\n",
    "model = AutoModelForSequenceClassification.from_pretrained(MODEL)\n",
    "\n",
    "device = torch.device('cuda' if torch.cuda.is_available() else 'cpu')\n",
    "model.to(device)\n",
    "print(torch.cuda.is_available())\n",
    "\n",
    "nlp = spacy.load(\"en_core_web_sm\")"
   ]
  },
  {
   "cell_type": "code",
   "execution_count": 13,
   "id": "fa2410d8-2ada-4cbf-8a70-f0ccf9d198bb",
   "metadata": {},
   "outputs": [
    {
     "data": {
      "text/html": [
       "<div>\n",
       "<style scoped>\n",
       "    .dataframe tbody tr th:only-of-type {\n",
       "        vertical-align: middle;\n",
       "    }\n",
       "\n",
       "    .dataframe tbody tr th {\n",
       "        vertical-align: top;\n",
       "    }\n",
       "\n",
       "    .dataframe thead th {\n",
       "        text-align: right;\n",
       "    }\n",
       "</style>\n",
       "<table border=\"1\" class=\"dataframe\">\n",
       "  <thead>\n",
       "    <tr style=\"text-align: right;\">\n",
       "      <th></th>\n",
       "      <th>Unnamed: 0</th>\n",
       "      <th>comment</th>\n",
       "      <th>timestamp</th>\n",
       "    </tr>\n",
       "  </thead>\n",
       "  <tbody>\n",
       "    <tr>\n",
       "      <th>0</th>\n",
       "      <td>0</td>\n",
       "      <td>\\nAs a reminder, this subreddit [is for civil ...</td>\n",
       "      <td>2024-06-29 13:39:30</td>\n",
       "    </tr>\n",
       "    <tr>\n",
       "      <th>1</th>\n",
       "      <td>1</td>\n",
       "      <td>Chaos feels like the goal at this point. This ...</td>\n",
       "      <td>2024-06-29 14:35:04</td>\n",
       "    </tr>\n",
       "    <tr>\n",
       "      <th>2</th>\n",
       "      <td>2</td>\n",
       "      <td>In the same week they legalized bribery and ga...</td>\n",
       "      <td>2024-06-29 15:48:41</td>\n",
       "    </tr>\n",
       "    <tr>\n",
       "      <th>3</th>\n",
       "      <td>3</td>\n",
       "      <td>It’s a rogue court dismantling government inst...</td>\n",
       "      <td>2024-06-29 13:54:23</td>\n",
       "    </tr>\n",
       "    <tr>\n",
       "      <th>4</th>\n",
       "      <td>4</td>\n",
       "      <td>My message to the double haters is this. Don't...</td>\n",
       "      <td>2024-06-29 14:03:38</td>\n",
       "    </tr>\n",
       "  </tbody>\n",
       "</table>\n",
       "</div>"
      ],
      "text/plain": [
       "   Unnamed: 0                                            comment  \\\n",
       "0           0  \\nAs a reminder, this subreddit [is for civil ...   \n",
       "1           1  Chaos feels like the goal at this point. This ...   \n",
       "2           2  In the same week they legalized bribery and ga...   \n",
       "3           3  It’s a rogue court dismantling government inst...   \n",
       "4           4  My message to the double haters is this. Don't...   \n",
       "\n",
       "             timestamp  \n",
       "0  2024-06-29 13:39:30  \n",
       "1  2024-06-29 14:35:04  \n",
       "2  2024-06-29 15:48:41  \n",
       "3  2024-06-29 13:54:23  \n",
       "4  2024-06-29 14:03:38  "
      ]
     },
     "execution_count": 13,
     "metadata": {},
     "output_type": "execute_result"
    }
   ],
   "source": [
    "df = pd.read_csv('2024-06-29.csv')\n",
    "df.head()"
   ]
  },
  {
   "cell_type": "code",
   "execution_count": 15,
   "id": "d9441335-0d4d-439f-b910-2d90892b78b8",
   "metadata": {},
   "outputs": [
    {
     "data": {
      "text/html": [
       "<div>\n",
       "<style scoped>\n",
       "    .dataframe tbody tr th:only-of-type {\n",
       "        vertical-align: middle;\n",
       "    }\n",
       "\n",
       "    .dataframe tbody tr th {\n",
       "        vertical-align: top;\n",
       "    }\n",
       "\n",
       "    .dataframe thead th {\n",
       "        text-align: right;\n",
       "    }\n",
       "</style>\n",
       "<table border=\"1\" class=\"dataframe\">\n",
       "  <thead>\n",
       "    <tr style=\"text-align: right;\">\n",
       "      <th></th>\n",
       "      <th>id</th>\n",
       "      <th>comment</th>\n",
       "      <th>timestamp</th>\n",
       "    </tr>\n",
       "  </thead>\n",
       "  <tbody>\n",
       "    <tr>\n",
       "      <th>0</th>\n",
       "      <td>0</td>\n",
       "      <td>\\nAs a reminder, this subreddit [is for civil ...</td>\n",
       "      <td>2024-06-29 13:39:30</td>\n",
       "    </tr>\n",
       "    <tr>\n",
       "      <th>1</th>\n",
       "      <td>1</td>\n",
       "      <td>Chaos feels like the goal at this point. This ...</td>\n",
       "      <td>2024-06-29 14:35:04</td>\n",
       "    </tr>\n",
       "    <tr>\n",
       "      <th>2</th>\n",
       "      <td>2</td>\n",
       "      <td>In the same week they legalized bribery and ga...</td>\n",
       "      <td>2024-06-29 15:48:41</td>\n",
       "    </tr>\n",
       "    <tr>\n",
       "      <th>3</th>\n",
       "      <td>3</td>\n",
       "      <td>It’s a rogue court dismantling government inst...</td>\n",
       "      <td>2024-06-29 13:54:23</td>\n",
       "    </tr>\n",
       "    <tr>\n",
       "      <th>4</th>\n",
       "      <td>4</td>\n",
       "      <td>My message to the double haters is this. Don't...</td>\n",
       "      <td>2024-06-29 14:03:38</td>\n",
       "    </tr>\n",
       "  </tbody>\n",
       "</table>\n",
       "</div>"
      ],
      "text/plain": [
       "   id                                            comment            timestamp\n",
       "0   0  \\nAs a reminder, this subreddit [is for civil ...  2024-06-29 13:39:30\n",
       "1   1  Chaos feels like the goal at this point. This ...  2024-06-29 14:35:04\n",
       "2   2  In the same week they legalized bribery and ga...  2024-06-29 15:48:41\n",
       "3   3  It’s a rogue court dismantling government inst...  2024-06-29 13:54:23\n",
       "4   4  My message to the double haters is this. Don't...  2024-06-29 14:03:38"
      ]
     },
     "execution_count": 15,
     "metadata": {},
     "output_type": "execute_result"
    }
   ],
   "source": [
    "df = df.rename(columns={'Unnamed: 0': 'id'})\n",
    "df.head()"
   ]
  },
  {
   "cell_type": "code",
   "execution_count": 59,
   "id": "8c54c03e-f386-49df-b8a7-c7d2122c102c",
   "metadata": {},
   "outputs": [],
   "source": [
    "# Named Entity Recognition\n",
    "data = {\n",
    "    'comment': [],\n",
    "    'entities': []\n",
    "}\n",
    "\n",
    "for index, row in df.iterrows():\n",
    "    text = row['comment']\n",
    "    doc = nlp(text)\n",
    "    entities = [(ent.text, ent.label_) for ent in doc.ents]\n",
    "\n",
    "    if entities:\n",
    "        data['comment'].append(text)\n",
    "        data['entities'].append(entities)\n",
    "\n",
    "output_df = pd.DataFrame(data)\n",
    "output_df = pd.concat([df, output_df['entities']], axis=1)"
   ]
  },
  {
   "cell_type": "code",
   "execution_count": 63,
   "id": "6515a43d-9615-4e65-bd26-e3c547e1423f",
   "metadata": {},
   "outputs": [],
   "source": [
    "# Get polarity scores for each comment\n",
    "def polarity_scores_roberta(example):\n",
    "    encoded_text = tokenizer(example, return_tensors='pt')\n",
    "    encoded_text = {key: value.to(device) for key, value in encoded_text.items()}\n",
    "    output = model(**encoded_text)\n",
    "    \n",
    "    scores = output[0][0].detach().cpu().numpy()\n",
    "    scores = softmax(scores)\n",
    "    scores_dict = {\n",
    "        'roberta_neg' : scores[0],\n",
    "        'roberta_neu' : scores[1],\n",
    "        'roberta_pos' : scores[2]\n",
    "    }\n",
    "    return scores_dict"
   ]
  },
  {
   "cell_type": "code",
   "execution_count": 65,
   "id": "786d694a-3f63-4769-b13d-e5342258feb9",
   "metadata": {},
   "outputs": [
    {
     "name": "stdout",
     "output_type": "stream",
     "text": [
      "Runtime Error: id index 101\n",
      "Runtime Error: id index 966\n",
      "Runtime Error: id index 1205\n",
      "Runtime Error: id index 2117\n",
      "Runtime Error: id index 2574\n",
      "Runtime Error: id index 2586\n",
      "Runtime Error: id index 2663\n",
      "Runtime Error: id index 4407\n",
      "Runtime Error: id index 4726\n",
      "Runtime Error: id index 4837\n",
      "Runtime Error: id index 4981\n",
      "Runtime Error: id index 5172\n",
      "Runtime Error: id index 5198\n",
      "Runtime Error: id index 6743\n",
      "Runtime Error: id index 7525\n",
      "Runtime Error: id index 7526\n",
      "Runtime Error: id index 7635\n",
      "Runtime Error: id index 7661\n",
      "Runtime Error: id index 7967\n",
      "Runtime Error: id index 8113\n",
      "Runtime Error: id index 8862\n",
      "Runtime Error: id index 10219\n",
      "Runtime Error: id index 10870\n",
      "Runtime Error: id index 11035\n",
      "Runtime Error: id index 11346\n",
      "Runtime Error: id index 11418\n",
      "Runtime Error: id index 11458\n",
      "Runtime Error: id index 11762\n",
      "Runtime Error: id index 12657\n",
      "Runtime Error: id index 12818\n",
      "Runtime Error: id index 13126\n",
      "Runtime Error: id index 14734\n",
      "Runtime Error: id index 14969\n",
      "Runtime Error: id index 14975\n",
      "Runtime Error: id index 15436\n",
      "Runtime Error: id index 15513\n",
      "Runtime Error: id index 15943\n",
      "Runtime Error: id index 16637\n",
      "Runtime Error: id index 16745\n",
      "Runtime Error: id index 16886\n",
      "Runtime Error: id index 16899\n",
      "Runtime Error: id index 17520\n",
      "Runtime Error: id index 18817\n",
      "Runtime Error: id index 19258\n",
      "Runtime Error: id index 19298\n"
     ]
    }
   ],
   "source": [
    "# Iterate comments through polarity_scores_roberta\n",
    "res = {}\n",
    "for i, row in df.iterrows():\n",
    "    try:\n",
    "        text = str(row['comment'])\n",
    "        id = row['id']\n",
    "        berta = polarity_scores_roberta(text)\n",
    "        res[id] = berta\n",
    "    except RuntimeError:\n",
    "        print(f'Runtime Error: id index {id}')"
   ]
  },
  {
   "cell_type": "code",
   "execution_count": 73,
   "id": "3ae88032-3919-4231-ba8e-2fd6f0a75525",
   "metadata": {},
   "outputs": [],
   "source": [
    "results = pd.DataFrame(res).T\n",
    "results = results.reset_index().rename(columns={'index': 'id'})\n",
    "results = results.merge(output_df, how='left')"
   ]
  },
  {
   "cell_type": "code",
   "execution_count": 75,
   "id": "ad88dae3-f435-46ff-957b-1bbde5265c43",
   "metadata": {},
   "outputs": [
    {
     "data": {
      "text/html": [
       "<div>\n",
       "<style scoped>\n",
       "    .dataframe tbody tr th:only-of-type {\n",
       "        vertical-align: middle;\n",
       "    }\n",
       "\n",
       "    .dataframe tbody tr th {\n",
       "        vertical-align: top;\n",
       "    }\n",
       "\n",
       "    .dataframe thead th {\n",
       "        text-align: right;\n",
       "    }\n",
       "</style>\n",
       "<table border=\"1\" class=\"dataframe\">\n",
       "  <thead>\n",
       "    <tr style=\"text-align: right;\">\n",
       "      <th></th>\n",
       "      <th>id</th>\n",
       "      <th>roberta_neg</th>\n",
       "      <th>roberta_neu</th>\n",
       "      <th>roberta_pos</th>\n",
       "      <th>comment</th>\n",
       "      <th>timestamp</th>\n",
       "      <th>entities</th>\n",
       "    </tr>\n",
       "  </thead>\n",
       "  <tbody>\n",
       "    <tr>\n",
       "      <th>0</th>\n",
       "      <td>0</td>\n",
       "      <td>0.340939</td>\n",
       "      <td>0.568925</td>\n",
       "      <td>0.090137</td>\n",
       "      <td>\\nAs a reminder, this subreddit [is for civil ...</td>\n",
       "      <td>2024-06-29 13:39:30</td>\n",
       "      <td>[(here](https://www.reddit.com, ORG)]</td>\n",
       "    </tr>\n",
       "    <tr>\n",
       "      <th>1</th>\n",
       "      <td>1</td>\n",
       "      <td>0.644755</td>\n",
       "      <td>0.323912</td>\n",
       "      <td>0.031334</td>\n",
       "      <td>Chaos feels like the goal at this point. This ...</td>\n",
       "      <td>2024-06-29 14:35:04</td>\n",
       "      <td>[(decades, DATE), (Donda Academy, ORG), (the B...</td>\n",
       "    </tr>\n",
       "    <tr>\n",
       "      <th>2</th>\n",
       "      <td>2</td>\n",
       "      <td>0.182935</td>\n",
       "      <td>0.343331</td>\n",
       "      <td>0.473734</td>\n",
       "      <td>In the same week they legalized bribery and ga...</td>\n",
       "      <td>2024-06-29 15:48:41</td>\n",
       "      <td>[(the same week, DATE)]</td>\n",
       "    </tr>\n",
       "    <tr>\n",
       "      <th>3</th>\n",
       "      <td>3</td>\n",
       "      <td>0.723544</td>\n",
       "      <td>0.260741</td>\n",
       "      <td>0.015714</td>\n",
       "      <td>It’s a rogue court dismantling government inst...</td>\n",
       "      <td>2024-06-29 13:54:23</td>\n",
       "      <td>[(FDA, ORG)]</td>\n",
       "    </tr>\n",
       "    <tr>\n",
       "      <th>4</th>\n",
       "      <td>4</td>\n",
       "      <td>0.693620</td>\n",
       "      <td>0.286474</td>\n",
       "      <td>0.019906</td>\n",
       "      <td>My message to the double haters is this. Don't...</td>\n",
       "      <td>2024-06-29 14:03:38</td>\n",
       "      <td>[(Trump, ORG), (decades, DATE)]</td>\n",
       "    </tr>\n",
       "  </tbody>\n",
       "</table>\n",
       "</div>"
      ],
      "text/plain": [
       "   id  roberta_neg  roberta_neu  roberta_pos  \\\n",
       "0   0     0.340939     0.568925     0.090137   \n",
       "1   1     0.644755     0.323912     0.031334   \n",
       "2   2     0.182935     0.343331     0.473734   \n",
       "3   3     0.723544     0.260741     0.015714   \n",
       "4   4     0.693620     0.286474     0.019906   \n",
       "\n",
       "                                             comment            timestamp  \\\n",
       "0  \\nAs a reminder, this subreddit [is for civil ...  2024-06-29 13:39:30   \n",
       "1  Chaos feels like the goal at this point. This ...  2024-06-29 14:35:04   \n",
       "2  In the same week they legalized bribery and ga...  2024-06-29 15:48:41   \n",
       "3  It’s a rogue court dismantling government inst...  2024-06-29 13:54:23   \n",
       "4  My message to the double haters is this. Don't...  2024-06-29 14:03:38   \n",
       "\n",
       "                                            entities  \n",
       "0              [(here](https://www.reddit.com, ORG)]  \n",
       "1  [(decades, DATE), (Donda Academy, ORG), (the B...  \n",
       "2                            [(the same week, DATE)]  \n",
       "3                                       [(FDA, ORG)]  \n",
       "4                    [(Trump, ORG), (decades, DATE)]  "
      ]
     },
     "execution_count": 75,
     "metadata": {},
     "output_type": "execute_result"
    }
   ],
   "source": [
    "results.head()"
   ]
  },
  {
   "cell_type": "code",
   "execution_count": 98,
   "id": "f6e48a4f-3192-4f84-846e-87bc607cd905",
   "metadata": {},
   "outputs": [],
   "source": [
    "filtered = results.dropna()\n",
    "\n",
    "def biden_sentiment(entities):\n",
    "    return all(entity == ('Biden', 'PERSON') for entity in entities)\n",
    "\n",
    "def trump_sentiment(entities):\n",
    "    return all(entity == ('Trump', 'PERSON') for entity in entities)\n",
    "    \n",
    "biden = filtered[filtered['entities'].apply(biden_sentiment)]\n",
    "trump = filtered[filtered['entities'].apply(trump_sentiment)]"
   ]
  },
  {
   "cell_type": "code",
   "execution_count": 79,
   "id": "20af7ded-acca-4c48-8c99-f5b12f84a708",
   "metadata": {},
   "outputs": [],
   "source": [
    "labels = ['Negative', 'Neutral', 'Positive']\n",
    "values = [neg, neu, pos]"
   ]
  },
  {
   "cell_type": "code",
   "execution_count": 77,
   "id": "27eedac9-283e-481c-857b-7fdcb7635526",
   "metadata": {},
   "outputs": [],
   "source": [
    "neg = results['roberta_neg'].mean(axis=0)\n",
    "neu = results['roberta_neu'].mean(axis=0)\n",
    "pos = results['roberta_pos'].mean(axis=0)"
   ]
  },
  {
   "cell_type": "code",
   "execution_count": 106,
   "id": "0a9a6bc5-778a-475c-9b75-ebff215e0285",
   "metadata": {},
   "outputs": [],
   "source": [
    "b_neg = biden['roberta_neg'].mean(axis=0)\n",
    "b_neu = biden['roberta_neu'].mean(axis=0)\n",
    "b_pos = biden['roberta_pos'].mean(axis=0)\n",
    "\n",
    "t_neg = trump['roberta_neg'].mean(axis=0)\n",
    "t_neu = trump['roberta_neu'].mean(axis=0)\n",
    "t_pos = trump['roberta_pos'].mean(axis=0)"
   ]
  },
  {
   "cell_type": "code",
   "execution_count": 108,
   "id": "d8408e07-9528-4000-a021-a769d4e20200",
   "metadata": {},
   "outputs": [],
   "source": [
    "labels = ['Joe Biden', 'Donald Trump']\n",
    "neg_values = [b_neg, t_neg]\n",
    "neu_values = [b_neu, t_neu]\n",
    "pos_values = [b_pos, t_pos]"
   ]
  },
  {
   "cell_type": "code",
   "execution_count": 81,
   "id": "394d7fdc-16a8-46d8-9650-ef8f9a114f0b",
   "metadata": {},
   "outputs": [
    {
     "data": {
      "image/png": "[encoded data removed]",
      "text/plain": [
       "<Figure size 800x600 with 1 Axes>"
      ]
     },
     "metadata": {},
     "output_type": "display_data"
    }
   ],
   "source": [
    "plt.figure(figsize=(8,6))\n",
    "plt.bar(labels, values, color=['red', 'orange', 'green'])\n",
    "\n",
    "plt.title('r/Politics Average Comment Sentiment for June 29, 2024')\n",
    "plt.ylabel('Mean RoBERTa Value')\n",
    "plt.show()"
   ]
  },
  {
   "cell_type": "code",
   "execution_count": 120,
   "id": "0ac2a0cf-d86d-4b8c-a81d-9b020b95bf72",
   "metadata": {},
   "outputs": [
    {
     "data": {
      "image/png": "[encoded data removed]",
      "text/plain": [
       "<Figure size 1500x500 with 3 Axes>"
      ]
     },
     "metadata": {},
     "output_type": "display_data"
    }
   ],
   "source": [
    "fig, axs = plt.subplots(1,3,figsize=(15,5))\n",
    "axs[0].bar(labels, neg_values, color=['blue', 'red'])\n",
    "axs[1].bar(labels, neu_values, color=['blue', 'red'])\n",
    "axs[2].bar(labels, pos_values, color=['blue', 'red'])\n",
    "\n",
    "axs[0].set_title('Negative')\n",
    "axs[1].set_title('Neutral')\n",
    "axs[2].set_title('Positive')\n",
    "\n",
    "plt.show()"
   ]
  }
 ],
 "metadata": {
  "kernelspec": {
   "display_name": "Python 3 (ipykernel)",
   "language": "python",
   "name": "python3"
  },
  "language_info": {
   "codemirror_mode": {
    "name": "ipython",
    "version": 3
   },
   "file_extension": ".py",
   "mimetype": "text/x-python",
   "name": "python",
   "nbconvert_exporter": "python",
   "pygments_lexer": "ipython3",
   "version": "3.12.4"
  }
 },
 "nbformat": 4,
 "nbformat_minor": 5
}
